{
 "metadata": {
  "name": "",
  "signature": "sha256:ba4fc693aaa07c83a1f7caa553a9ed2112150aa16d0f8a034d3bb9fb431c8ada"
 },
 "nbformat": 3,
 "nbformat_minor": 0,
 "worksheets": [
  {
   "cells": [
    {
     "cell_type": "markdown",
     "metadata": {},
     "source": [
      "##Portfolio Menu\n",
      "- Project 1: http://trevorguru.github.io/\n",
      "- Project 2: http://nbviewer.ipython.org/github/trevorguru/trevorguru.github.io/blob/master/Tproject2.ipynb\n",
      "- Project 3: http://nbviewer.ipython.org/github/trevorguru/trevorguru.github.io/blob/master/har-publish.ipynb\n",
      "\n",
      "========================================================================================================\n",
      "\n",
      "#Data Science Portfolio Project II\n",
      "## Are First Babies Born Later?"
     ]
    },
    {
     "cell_type": "markdown",
     "metadata": {},
     "source": [
      "This data science project was inspired by problems in ThinkStats by Allen Downey's \n",
      "http://greenteapress.com/thinkstats/"
     ]
    },
    {
     "cell_type": "code",
     "collapsed": false,
     "input": [
      "% matplotlib inline\n",
      "import numpy as np\n",
      "import survey\n",
      "import Pmf\n",
      "from matplotlib import pyplot as plt\n",
      "import pylab as P"
     ],
     "language": "python",
     "metadata": {},
     "outputs": [],
     "prompt_number": 30
    },
    {
     "cell_type": "markdown",
     "metadata": {},
     "source": [
      "Class *survey* and *Pmf* are available here: http://greenteapress.com/thinkstats/data.html"
     ]
    },
    {
     "cell_type": "code",
     "collapsed": false,
     "input": [
      "# import CDC data on pregnancies (http://www.icpsr.umich.edu/nsfg6/)\n",
      "table = survey.Pregnancies()\n",
      "table.ReadRecords()\n",
      "print 'Number of pregnancies in records:', len(table.records)"
     ],
     "language": "python",
     "metadata": {},
     "outputs": [
      {
       "output_type": "stream",
       "stream": "stdout",
       "text": [
        "Number of pregnancies in records: 13593\n"
       ]
      }
     ],
     "prompt_number": 4
    },
    {
     "cell_type": "markdown",
     "metadata": {},
     "source": [
      "Next, we make subrecords of First babies and Other babies (babies born second, third etc.).\n",
      "We filter for  only live births."
     ]
    },
    {
     "cell_type": "code",
     "collapsed": true,
     "input": [
      "def part(table):\n",
      "    firstb = survey.Pregnancies()\n",
      "    otherb = survey.Pregnancies()\n",
      "    for ii in table.records:\n",
      "        if ii.outcome !=1:\n",
      "            continue\n",
      "        if ii.birthord ==1:\n",
      "            firstb.AddRecord(ii)\n",
      "        else:\n",
      "            otherb.AddRecord(ii)\n",
      "    return firstb, otherb"
     ],
     "language": "python",
     "metadata": {},
     "outputs": [],
     "prompt_number": 5
    },
    {
     "cell_type": "code",
     "collapsed": true,
     "input": [
      "FB, OB = part(table)"
     ],
     "language": "python",
     "metadata": {},
     "outputs": [],
     "prompt_number": 6
    },
    {
     "cell_type": "code",
     "collapsed": false,
     "input": [
      "print 'number of first babies', len(FB), 'number of other babies ', len(OB)"
     ],
     "language": "python",
     "metadata": {},
     "outputs": [
      {
       "output_type": "stream",
       "stream": "stdout",
       "text": [
        "number of first babies 4413 number of other babies  4735\n"
       ]
      }
     ],
     "prompt_number": 8
    },
    {
     "cell_type": "markdown",
     "metadata": {},
     "source": [
      "Now let's calculate the mean gestation period:"
     ]
    },
    {
     "cell_type": "code",
     "collapsed": true,
     "input": [
      "def Meanprg(list):\n",
      "    \"\"\"returns the mean of the pregnancy term of the \n",
      "       first babies or other babies\n",
      "    \"\"\"\n",
      "    item=[]\n",
      "    for elem in list.records:\n",
      "        item.append(elem.prglength*1.0)\n",
      "    itemmean=sum(item)/len(list.records)\n",
      "    return itemmean\n",
      "\n",
      "fmean = Meanprg(FB)\n",
      "omean = Meanprg(OB)"
     ],
     "language": "python",
     "metadata": {},
     "outputs": [],
     "prompt_number": 9
    },
    {
     "cell_type": "code",
     "collapsed": false,
     "input": [
      "print 'Mean pregnancy term for first babies ',  fmean, '[weeks]'\n",
      "print 'Mean pregnancy term for other babies ', omean, '[weeks]'\n",
      "print 'Difference in Mean [hours] ', (fmean-omean)*7*24.0, '[hours]'"
     ],
     "language": "python",
     "metadata": {},
     "outputs": [
      {
       "output_type": "stream",
       "stream": "stdout",
       "text": [
        "Mean pregnancy term for first babies  38.6009517335 [weeks]\n",
        "Mean pregnancy term for other babies  38.5229144667 [weeks]\n",
        "Difference in Mean [hours]  13.1102608186 [hours]\n"
       ]
      }
     ],
     "prompt_number": 11
    },
    {
     "cell_type": "markdown",
     "metadata": {},
     "source": [
      "First babies are born *on average* 13 hours earlier!!!\n",
      "Now let's look at the variation in the samples by calculating the standard deviation:"
     ]
    },
    {
     "cell_type": "code",
     "collapsed": true,
     "input": [
      "def stdprg(list):\n",
      "    \"\"\"return the standard deviation of the pregnancy \n",
      "       term for first babies or other biabies\n",
      "    \"\"\" \n",
      "    items=[]\n",
      "    for elem in list.records:\n",
      "        items.append(elem.prglength*1.0)\n",
      "    mean = sum(items)/len(list.records)\n",
      "    varterm=[]\n",
      "    for elem in list.records:\n",
      "        vari = (mean*1.0 - elem.prglength)**2.0\n",
      "        varterm.append(vari)\n",
      "    stddev = (sum(varterm)**0.5)/len(list.records)\n",
      "    return stddev\n",
      "\n",
      "Fstd = stdprg(FB)\n",
      "Ostd = stdprg(OB)"
     ],
     "language": "python",
     "metadata": {},
     "outputs": [],
     "prompt_number": 12
    },
    {
     "cell_type": "code",
     "collapsed": false,
     "input": [
      "print 'StdDev term for first babies ',  Fstd , ' weeks'\n",
      "print 'StdDev term for other babies ', Ostd, ' weeks'\n",
      "print 'StdDev term for first babies ',  Fstd*7.0*24 , ' hours'\n",
      "print 'StdDev term for other babies ', Ostd*7.0*24, ' hours'\n",
      "print '\\nRelative StdDev (StDev/mean):'\n",
      "print 'first babies [stdev/mean] ', Fstd/fmean\n",
      "print 'other babies [stdev/mean] ', Ostd/omean"
     ],
     "language": "python",
     "metadata": {},
     "outputs": [
      {
       "output_type": "stream",
       "stream": "stdout",
       "text": [
        "StdDev term for first babies  0.0420226951999  weeks\n",
        "StdDev term for other babies  0.0380108315324  weeks\n",
        "StdDev term for first babies  7.05981279359  hours\n",
        "StdDev term for other babies  6.38581969745  hours\n",
        "\n",
        "Relative StdDev (StDev/mean):\n",
        "first babies [stdev/mean]  0.00108864401816\n",
        "other babies [stdev/mean]  0.000986707056271\n"
       ]
      }
     ],
     "prompt_number": 21
    },
    {
     "cell_type": "markdown",
     "metadata": {},
     "source": [
      "The difference in the mean pregnancy duration betweem first babies and other babies is roughly two standard deviations apart. Thus the difference of about 13 hours seems to be significant."
     ]
    },
    {
     "cell_type": "markdown",
     "metadata": {},
     "source": [
      "A picture is worth a thousand words. Let's visualize the data using a histogram:"
     ]
    },
    {
     "cell_type": "markdown",
     "metadata": {},
     "source": [
      "def makehist(list):\n",
      "    \"\"\" Returns a histogram for survey objects:\n",
      "        myhist and mybin\n",
      "    \"\"\"\n",
      "    val=[]\n",
      "    for ii in list.records:\n",
      "        val.append(ii.prglength*1.0)\n",
      "    myhist, mybin = np.histogram(val,bins=22,range=(22,47))\n",
      "    center = (mybin[1:]+mybin[:-1])/2.0\n",
      "    return myhist, mybin, center, val"
     ]
    },
    {
     "cell_type": "code",
     "collapsed": false,
     "input": [
      "Fhist, Fbin, center, Fval = makehist(FB)\n",
      "Ohist, Obin, center, Oval = makehist(OB)\n",
      "width=0.354\n",
      "plt.bar(center, Fhist, width, color='pink',label='first babies')\n",
      "plt.bar(center+width, Ohist, width, color='blue',label='other babies')\n",
      "plt.ylabel(\"frequency\")\n",
      "plt.xlabel(\"weeks\")\n",
      "plt.legend(loc=2)\n",
      "plt.show()"
     ],
     "language": "python",
     "metadata": {},
     "outputs": [
      {
       "metadata": {},
       "output_type": "display_data",
       "png": "[encoded data removed]",
       "text": [
        "<matplotlib.figure.Figure at 0x4481d10>"
       ]
      }
     ],
     "prompt_number": 35
    },
    {
     "cell_type": "markdown",
     "metadata": {},
     "source": [
      "Now imagine that you're a physician and your patient, a first time mom, is pregnant and in her 40th week. She wants to know the chances of her baby being born on the 40th week of her pregnancy. You can answer this question by calculating the conditional probability of the baby being born on the 40th week provided the mother is still pregnant.\n",
      "Consider the following:"
     ]
    },
    {
     "cell_type": "code",
     "collapsed": false,
     "input": [
      "def BornatWeek(table,week):\n",
      "    bornweek = survey.Pregnancies()\n",
      "    for x in table.records:\n",
      "        if x.prglength >= week:\n",
      "            bornweek.AddRecord(x)\n",
      "    return bornweek\n",
      "\n",
      "FB40 = BornatWeek(FB,40)\n",
      "\n",
      "def pmfBornWeek(table,week):\n",
      "    val=[]\n",
      "    for x in table.records:\n",
      "        val.append(x.prglength*1.0)\n",
      "    weekpmf = Pmf.MakePmfFromList(val)\n",
      "    return weekpmf\n",
      "\n",
      "FB40pmf = pmfBornWeek(FB40,40)\n",
      "print 'chances of mom giving birth to first child, on 40th week into her pregnancy:', FB40pmf.Prob(40)\n"
     ],
     "language": "python",
     "metadata": {},
     "outputs": [
      {
       "output_type": "stream",
       "stream": "stdout",
       "text": [
        "chances of mom giving birth to first child, on 40th week into her pregnancy: 0.438625204583\n"
       ]
      }
     ],
     "prompt_number": 41
    },
    {
     "cell_type": "markdown",
     "metadata": {},
     "source": [
      "It is interesting to compare First babies wtih Other babies in this instance:"
     ]
    },
    {
     "cell_type": "code",
     "collapsed": false,
     "input": [
      "OB40=BornatWeek(OB,40)\n",
      "OB40pmf = pmfBornWeek(OB40,40)\n",
      "\n",
      "print 'chances of mom giving birth (to Other baby), on 40th week into her pregnancy:', OB40pmf.Prob(40)"
     ],
     "language": "python",
     "metadata": {},
     "outputs": [
      {
       "output_type": "stream",
       "stream": "stdout",
       "text": [
        "chances of mom giving birth (to Other baby), on 40th week into her pregnancy: 0.56640625\n"
       ]
      }
     ],
     "prompt_number": 47
    },
    {
     "cell_type": "markdown",
     "metadata": {},
     "source": [
      "It's interesting to find that the probabilities seem substantially different if the bother is giving birth to her first child or if she's given birth before."
     ]
    },
    {
     "cell_type": "code",
     "collapsed": false,
     "input": [],
     "language": "python",
     "metadata": {},
     "outputs": []
    }
   ],
   "metadata": {}
  }
 ]
}