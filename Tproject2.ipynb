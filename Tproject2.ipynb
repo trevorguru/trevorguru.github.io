{
 "metadata": {
  "name": "Tproject2"
 }, 
 "nbformat": 2, 
 "worksheets": [
  {
   "cells": [
    {
     "cell_type": "markdown", 
     "source": [
      "#Data Science Portfolio Project - part II", 
      "## First Babies "
     ]
    }, 
    {
     "cell_type": "markdown", 
     "source": [
      "print a this project compares Education consumption data (2010) with GDP data 2050", 
      "Sources are world bank and..."
     ]
    }, 
    {
     "cell_type": "code", 
     "collapsed": true, 
     "input": [
      "import numpy as np", 
      "from numpy import genfromtxt", 
      "import survey", 
      "import Pmf", 
      "from matplotlib import pyplot as plt", 
      "import pylab as P"
     ], 
     "language": "python", 
     "outputs": [], 
     "prompt_number": 3
    }, 
    {
     "cell_type": "code", 
     "collapsed": false, 
     "input": [
      "table = survey.Pregnancies()", 
      "table.ReadRecords()", 
      "print 'Number of pregnanis', len(table.records)"
     ], 
     "language": "python", 
     "outputs": [
      {
       "output_type": "stream", 
       "stream": "stdout", 
       "text": [
        "Number of pregnanis 13593"
       ]
      }
     ], 
     "prompt_number": 4
    }, 
    {
     "cell_type": "code", 
     "collapsed": true, 
     "input": [
      "# make subtable of first and other babies.. filter for  only live birhts"
     ], 
     "language": "python", 
     "outputs": [], 
     "prompt_number": 5
    }, 
    {
     "cell_type": "code", 
     "collapsed": true, 
     "input": [
      "def part(table):", 
      "    firstb = survey.Pregnancies()", 
      "    otherb = survey.Pregnancies()", 
      "    for ii in table.records:", 
      "        if ii.outcome !=1:", 
      "            continue", 
      "        if ii.birthord ==1:", 
      "            firstb.AddRecord(ii)", 
      "        else:", 
      "            otherb.AddRecord(ii)", 
      "    return firstb, otherb"
     ], 
     "language": "python", 
     "outputs": [], 
     "prompt_number": 6
    }, 
    {
     "cell_type": "code", 
     "collapsed": true, 
     "input": [
      "FB, OB = part(table)"
     ], 
     "language": "python", 
     "outputs": [], 
     "prompt_number": 7
    }, 
    {
     "cell_type": "code", 
     "collapsed": false, 
     "input": [
      "print 'number of first babies', len(FB), 'number of other babies ', len(OB)"
     ], 
     "language": "python", 
     "outputs": [
      {
       "output_type": "stream", 
       "stream": "stdout", 
       "text": [
        "number of first babies 4413 number of other babies  4735"
       ]
      }
     ], 
     "prompt_number": 8
    }, 
    {
     "cell_type": "markdown", 
     "source": [
      "calculate the mean"
     ]
    }, 
    {
     "cell_type": "code", 
     "collapsed": true, 
     "input": [
      "def Meanprg(list):", 
      "    \"\"\"returns the mean of the pregnancy term of the ", 
      "       first babies or other babies", 
      "    \"\"\"", 
      "    item=[]", 
      "    for elem in list.records:", 
      "        item.append(elem.prglength*1.0)", 
      "    itemmean=sum(item)/len(list.records)", 
      "    return itemmean", 
      "", 
      "fmean = Meanprg(FB)", 
      "omean = Meanprg(OB)"
     ], 
     "language": "python", 
     "outputs": [], 
     "prompt_number": 10
    }, 
    {
     "cell_type": "code", 
     "collapsed": false, 
     "input": [
      "", 
      "print 'Mean term for first babies ',  fmean, '[weeks]'", 
      "print 'Mean term for other babies ', omean, '[weeks]'", 
      "print 'Difference in Mean [hours] ', (fmean-omean)*7*24.0, '[hours]'"
     ], 
     "language": "python", 
     "outputs": [
      {
       "output_type": "stream", 
       "stream": "stdout", 
       "text": [
        "Mean term for first babies  38.6009517335 [weeks]", 
        "Mean term for other babies  38.5229144667 [weeks]", 
        "Difference in Mean [hours]  13.1102608186 [hours]"
       ]
      }
     ], 
     "prompt_number": 11
    }, 
    {
     "cell_type": "code", 
     "collapsed": true, 
     "input": [
      "def stdprg(list):", 
      "    \"\"\"return the standard deviation of the pregnancy ", 
      "       term for first babies or other biabies", 
      "    \"\"\" ", 
      "    items=[]", 
      "    for elem in list.records:", 
      "        items.append(elem.prglength*1.0)", 
      "    mean = sum(items)/len(list.records)", 
      "    varterm=[]", 
      "    for elem in list.records:", 
      "        vari = (mean*1.0 - elem.prglength)**2.0", 
      "        varterm.append(vari)", 
      "    stddev = (sum(varterm)**0.5)/len(list.records)", 
      "    return stddev", 
      "", 
      "Fstd = stdprg(FB)", 
      "Ostd = stdprg(OB)"
     ], 
     "language": "python", 
     "outputs": [], 
     "prompt_number": 12
    }, 
    {
     "cell_type": "code", 
     "collapsed": false, 
     "input": [
      "", 
      "print 'StdDev term for first babies ',  Fstd", 
      "print 'StdDev term for other babies ', Ostd", 
      "print 'relative stdDev sigma/mean: '", 
      "print 'first babies [sigma/mean] ', Fstd/fmean", 
      "print 'other babies [sigma/mean] ', Ostd/omean"
     ], 
     "language": "python", 
     "outputs": [
      {
       "output_type": "stream", 
       "stream": "stdout", 
       "text": [
        "StdDev term for first babies  0.0420226951999", 
        "StdDev term for other babies  0.0380108315324", 
        "relative stdDev sigma/mean: ", 
        "first babies [sigma/mean]  0.00108864401816", 
        "other babies [sigma/mean]  0.000986707056271"
       ]
      }
     ], 
     "prompt_number": 13
    }, 
    {
     "cell_type": "code", 
     "collapsed": true, 
     "input": [
      "def makehist(list):", 
      "    \"\"\" returns a histogram for usrvey objects", 
      "        myhist and mybin", 
      "    \"\"\"", 
      "    val=[]", 
      "    for ii in list.records:", 
      "        val.append(ii.prglength*1.0)", 
      "    myhist, mybin = np.histogram(val,bins=22,range=(22,47))", 
      "    center = (mybin[1:]+mybin[:-1])/2.0", 
      "    return myhist, mybin, center, val"
     ], 
     "language": "python", 
     "outputs": [], 
     "prompt_number": 14
    }, 
    {
     "cell_type": "code", 
     "collapsed": false, 
     "input": [
      "", 
      "Fhist, Fbin, center, Fval = makehist(FB)", 
      "Ohist, Obin, center, Oval = makehist(OB)", 
      "# print Fhist", 
      "# print val", 
      "width=0.354", 
      "plt.bar(center, Fhist, width, color='red',label='first babies')", 
      "plt.bar(center+width, Ohist, width, color='green',label='other babies')", 
      "plt.legend(loc=2)", 
      "#plt.show()"
     ], 
     "language": "python", 
     "outputs": [
      {
       "output_type": "pyout", 
       "prompt_number": 15, 
       "text": [
        "<matplotlib.legend.Legend at 0x3427950>"
       ]
      }
     ], 
     "prompt_number": 15
    }, 
    {
     "cell_type": "markdown", 
     "source": [
      "##conditional probability:", 
      "A woman is having her first child...", 
      "What is the probability baby will be born on the 40th week (hasn't been born yet)"
     ]
    }, 
    {
     "cell_type": "code", 
     "collapsed": false, 
     "input": [
      "def BornatWeek(table,week):", 
      "    bornweek = survey.Pregnancies()", 
      "    for x in table.records:", 
      "        if x.prglength >= week:", 
      "            bornweek.AddRecord(x)", 
      "    #pAtWeek = 1.0*count/len(table.records)", 
      "    return bornweek", 
      "", 
      "FB40 = BornatWeek(FB,40)", 
      "", 
      "def pmfBornWeek(table,week):", 
      "    val=[]", 
      "    for x in table.records:", 
      "        val.append(x.prglength*1.0)", 
      "    weekpmf = Pmf.MakePmfFromList(val)", 
      "    return weekpmf", 
      "", 
      "FB40pmf = pmfBornWeek(FB40,40)", 
      "print 'chances of mom giving birth to first child, on 40th week 400 weeks inther prgenance ', FB40pmf.Prob(40)", 
      "", 
      "OB40=BornatWeek(OB,40)", 
      "OB40pmf = pmfBornWeek(OB40,40)", 
      "", 
      "print 'chances of mom giving birth to first child, on 40th week 400 weeks inther prgenance ', OB40pmf.Prob(40)", 
      "", 
      "#print 'contents of pmf '", 
      "#vals = FB40pmf.Items()", 
      "#print vals,  '\\n'", 
      "", 
      "", 
      "", 
      "#plt.show()"
     ], 
     "language": "python", 
     "outputs": [
      {
       "output_type": "stream", 
       "stream": "stdout", 
       "text": [
        "chances of mom giving birth to first child, on 40th week 400 weeks inther prgenance  0.438625204583", 
        "chances of mom giving birth to first child, on 40th week 400 weeks inther prgenance  0.56640625"
       ]
      }
     ], 
     "prompt_number": 16
    }, 
    {
     "cell_type": "code", 
     "collapsed": true, 
     "input": [], 
     "language": "python", 
     "outputs": []
    }
   ]
  }
 ]
}